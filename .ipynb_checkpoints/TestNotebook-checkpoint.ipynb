{
 "cells": [
  {
   "cell_type": "markdown",
   "id": "4241b000",
   "metadata": {},
   "source": [
    "# Technical Assessment - Data Scientist\n",
    "### Author: Nicolas Santos\n",
    "### August 2022"
   ]
  },
  {
   "cell_type": "markdown",
   "id": "509ad332",
   "metadata": {},
   "source": [
    "---"
   ]
  },
  {
   "cell_type": "markdown",
   "id": "52de5d24",
   "metadata": {},
   "source": [
    "### 1 Notebook set-up"
   ]
  },
  {
   "cell_type": "code",
   "execution_count": 2,
   "id": "0af3052e",
   "metadata": {},
   "outputs": [],
   "source": [
    "#Housekeeping \n",
    "import pandas as pd\n",
    "import numpy as np\n",
    "import matplotlib.pyplot as plt"
   ]
  },
  {
   "cell_type": "markdown",
   "id": "59ddda95",
   "metadata": {},
   "source": [
    "Formating the aesthetics of the notebook."
   ]
  },
  {
   "cell_type": "code",
   "execution_count": 6,
   "id": "0dd459df",
   "metadata": {},
   "outputs": [
    {
     "data": {
      "application/javascript": [
       "IPython.OutputArea.prototype._should_scroll = function(lines) {\n",
       "    return false;\n",
       "}\n"
      ],
      "text/plain": [
       "<IPython.core.display.Javascript object>"
      ]
     },
     "metadata": {},
     "output_type": "display_data"
    }
   ],
   "source": [
    "%%javascript\n",
    "IPython.OutputArea.prototype._should_scroll = function(lines) {\n",
    "    return false;\n",
    "}"
   ]
  },
  {
   "cell_type": "code",
   "execution_count": null,
   "id": "c001c129",
   "metadata": {},
   "outputs": [],
   "source": [
    "%%html\n",
    "<style>\n",
    "table {float:left}\n",
    "</style>"
   ]
  },
  {
   "cell_type": "markdown",
   "id": "caef4629",
   "metadata": {},
   "source": [
    "### 2 Data Cleaning"
   ]
  },
  {
   "cell_type": "code",
   "execution_count": 50,
   "id": "896b964d",
   "metadata": {},
   "outputs": [
    {
     "data": {
      "text/html": [
       "<div>\n",
       "<style scoped>\n",
       "    .dataframe tbody tr th:only-of-type {\n",
       "        vertical-align: middle;\n",
       "    }\n",
       "\n",
       "    .dataframe tbody tr th {\n",
       "        vertical-align: top;\n",
       "    }\n",
       "\n",
       "    .dataframe thead th {\n",
       "        text-align: right;\n",
       "    }\n",
       "</style>\n",
       "<table border=\"1\" class=\"dataframe\">\n",
       "  <thead>\n",
       "    <tr style=\"text-align: right;\">\n",
       "      <th></th>\n",
       "      <th>ID</th>\n",
       "      <th>Series</th>\n",
       "      <th>2016</th>\n",
       "      <th>2017</th>\n",
       "      <th>2018</th>\n",
       "      <th>2019</th>\n",
       "      <th>2020</th>\n",
       "    </tr>\n",
       "  </thead>\n",
       "  <tbody>\n",
       "    <tr>\n",
       "      <th>0</th>\n",
       "      <td>Firm 1</td>\n",
       "      <td>NWP</td>\n",
       "      <td>-13779.815629</td>\n",
       "      <td>0.000000</td>\n",
       "      <td>0.000000</td>\n",
       "      <td>0.000000</td>\n",
       "      <td>0.000000</td>\n",
       "    </tr>\n",
       "    <tr>\n",
       "      <th>1</th>\n",
       "      <td>Firm 2</td>\n",
       "      <td>NWP</td>\n",
       "      <td>28.178059</td>\n",
       "      <td>26.865049</td>\n",
       "      <td>25.064438</td>\n",
       "      <td>23.226445</td>\n",
       "      <td>21.718558</td>\n",
       "    </tr>\n",
       "    <tr>\n",
       "      <th>2</th>\n",
       "      <td>Firm 3</td>\n",
       "      <td>NWP</td>\n",
       "      <td>0.000000</td>\n",
       "      <td>75.609681</td>\n",
       "      <td>70.578732</td>\n",
       "      <td>78.432782</td>\n",
       "      <td>85.735830</td>\n",
       "    </tr>\n",
       "    <tr>\n",
       "      <th>3</th>\n",
       "      <td>Firm 4</td>\n",
       "      <td>NWP</td>\n",
       "      <td>22344.199923</td>\n",
       "      <td>23963.910709</td>\n",
       "      <td>25760.390158</td>\n",
       "      <td>25512.748836</td>\n",
       "      <td>24996.021042</td>\n",
       "    </tr>\n",
       "    <tr>\n",
       "      <th>4</th>\n",
       "      <td>Firm 5</td>\n",
       "      <td>NWP</td>\n",
       "      <td>68.200993</td>\n",
       "      <td>51.663132</td>\n",
       "      <td>44.010833</td>\n",
       "      <td>42.008556</td>\n",
       "      <td>81.273653</td>\n",
       "    </tr>\n",
       "    <tr>\n",
       "      <th>...</th>\n",
       "      <td>...</td>\n",
       "      <td>...</td>\n",
       "      <td>...</td>\n",
       "      <td>...</td>\n",
       "      <td>...</td>\n",
       "      <td>...</td>\n",
       "      <td>...</td>\n",
       "    </tr>\n",
       "    <tr>\n",
       "      <th>2595</th>\n",
       "      <td>Firm 321</td>\n",
       "      <td>EXCESS</td>\n",
       "      <td>0.000000</td>\n",
       "      <td>3.844471</td>\n",
       "      <td>128.747010</td>\n",
       "      <td>291.664237</td>\n",
       "      <td>295.164914</td>\n",
       "    </tr>\n",
       "    <tr>\n",
       "      <th>2596</th>\n",
       "      <td>Firm 322</td>\n",
       "      <td>EXCESS</td>\n",
       "      <td>2106.880505</td>\n",
       "      <td>2532.760949</td>\n",
       "      <td>2580.812898</td>\n",
       "      <td>2262.969251</td>\n",
       "      <td>2135.697712</td>\n",
       "    </tr>\n",
       "    <tr>\n",
       "      <th>2597</th>\n",
       "      <td>Firm 323</td>\n",
       "      <td>EXCESS</td>\n",
       "      <td>40.334144</td>\n",
       "      <td>61.742553</td>\n",
       "      <td>64.102075</td>\n",
       "      <td>61.516112</td>\n",
       "      <td>4.104700</td>\n",
       "    </tr>\n",
       "    <tr>\n",
       "      <th>2598</th>\n",
       "      <td>Firm 324</td>\n",
       "      <td>EXCESS</td>\n",
       "      <td>52.133515</td>\n",
       "      <td>46.976232</td>\n",
       "      <td>50.522585</td>\n",
       "      <td>55.057676</td>\n",
       "      <td>53.507509</td>\n",
       "    </tr>\n",
       "    <tr>\n",
       "      <th>2599</th>\n",
       "      <td>Firm 325</td>\n",
       "      <td>EXCESS</td>\n",
       "      <td>285.129083</td>\n",
       "      <td>339.565646</td>\n",
       "      <td>334.288033</td>\n",
       "      <td>326.848756</td>\n",
       "      <td>0.000000</td>\n",
       "    </tr>\n",
       "  </tbody>\n",
       "</table>\n",
       "<p>2600 rows × 7 columns</p>\n",
       "</div>"
      ],
      "text/plain": [
       "            ID  Series          2016          2017          2018  \\\n",
       "0       Firm 1     NWP -13779.815629      0.000000      0.000000   \n",
       "1       Firm 2     NWP     28.178059     26.865049     25.064438   \n",
       "2       Firm 3     NWP      0.000000     75.609681     70.578732   \n",
       "3       Firm 4     NWP  22344.199923  23963.910709  25760.390158   \n",
       "4       Firm 5     NWP     68.200993     51.663132     44.010833   \n",
       "...        ...     ...           ...           ...           ...   \n",
       "2595  Firm 321  EXCESS      0.000000      3.844471    128.747010   \n",
       "2596  Firm 322  EXCESS   2106.880505   2532.760949   2580.812898   \n",
       "2597  Firm 323  EXCESS     40.334144     61.742553     64.102075   \n",
       "2598  Firm 324  EXCESS     52.133515     46.976232     50.522585   \n",
       "2599  Firm 325  EXCESS    285.129083    339.565646    334.288033   \n",
       "\n",
       "              2019          2020  \n",
       "0         0.000000      0.000000  \n",
       "1        23.226445     21.718558  \n",
       "2        78.432782     85.735830  \n",
       "3     25512.748836  24996.021042  \n",
       "4        42.008556     81.273653  \n",
       "...            ...           ...  \n",
       "2595    291.664237    295.164914  \n",
       "2596   2262.969251   2135.697712  \n",
       "2597     61.516112      4.104700  \n",
       "2598     55.057676     53.507509  \n",
       "2599    326.848756      0.000000  \n",
       "\n",
       "[2600 rows x 7 columns]"
      ]
     },
     "metadata": {},
     "output_type": "display_data"
    }
   ],
   "source": [
    "#Load raw excel file\n",
    "data_raw = pd.read_excel(r'C:\\Users\\nsant\\Documents\\BoE\\data\\Data for technical assessment.xlsx', \n",
    "                             sheet_name=\"Dataset 1 - General\", header = 1)\n",
    "\n",
    "data_raw.rename(columns = {'Unnamed: 0':'ID'}, inplace = True)\n",
    "data_raw.rename(columns = {'2016YE':'2016YE.0', \n",
    "                           '2017YE':'2017YE.0', \n",
    "                           '2017YE':'2017YE.0', \n",
    "                           '2018YE':'2018YE.0', \n",
    "                           '2019YE':'2019YE.0', \n",
    "                           '2020YE':'2020YE.0'}, inplace = True)\n",
    "# Reshape data\n",
    "data_raw = pd.wide_to_long(data_raw, stubnames = [\"2016YE\", \"2017YE\", \"2018YE\", \"2019YE\", \"2020YE\"], i=\"ID\", j=\"Series\", sep='.')\n",
    "\n",
    "data_raw.rename(columns = {'2016YE':'2016', \n",
    "                           '2017YE':'2017', \n",
    "                           '2017YE':'2017', \n",
    "                           '2018YE':'2018', \n",
    "                           '2019YE':'2019', \n",
    "                           '2020YE':'2020'}, inplace = True)\n",
    "\n",
    "#Dictionary with series name\n",
    "series_dic = {0:'NWP', 1:'SCR', 2:'EoF_SCR', 3:'SCR_CR', 4:'GWP', 5:'TOT_ASSETS', 6:'TOTAL_LIAB', 7:'EXCESS'}\n",
    "\n",
    "#Add series names to DF\n",
    "data_raw = data_raw.reset_index()\n",
    "for k, v in series_dic.items():\n",
    "    data_raw = data_raw.replace({'Series': k}, v)\n",
    "    \n",
    "display(data_raw)\n"
   ]
  },
  {
   "cell_type": "code",
   "execution_count": null,
   "id": "1ead8c28",
   "metadata": {},
   "outputs": [],
   "source": []
  }
 ],
 "metadata": {
  "kernelspec": {
   "display_name": "Python 3 (ipykernel)",
   "language": "python",
   "name": "python3"
  },
  "language_info": {
   "codemirror_mode": {
    "name": "ipython",
    "version": 3
   },
   "file_extension": ".py",
   "mimetype": "text/x-python",
   "name": "python",
   "nbconvert_exporter": "python",
   "pygments_lexer": "ipython3",
   "version": "3.9.12"
  }
 },
 "nbformat": 4,
 "nbformat_minor": 5
}
